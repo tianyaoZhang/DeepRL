{
  "cells": [
    {
      "cell_type": "markdown",
      "metadata": {
        "id": "view-in-github",
        "colab_type": "text"
      },
      "source": [
        "<a href=\"https://colab.research.google.com/github/tianyaoZhang/DeepRL/blob/master/week4_approx/practice_approx_qlearning_pytorch.ipynb\" target=\"_parent\"><img src=\"https://colab.research.google.com/assets/colab-badge.svg\" alt=\"Open In Colab\"/></a>"
      ]
    },
    {
      "cell_type": "markdown",
      "metadata": {
        "id": "ovJl2-da-7b-"
      },
      "source": [
        "# Approximate q-learning\n",
        "\n",
        "In this notebook you will teach a __PyTorch__ neural network to do Q-learning."
      ]
    },
    {
      "cell_type": "code",
      "execution_count": 1,
      "metadata": {
        "id": "Ok-GzpCb-7cD",
        "outputId": "1dce13b1-b4fc-4497-a6b0-a36cb47cdf66",
        "colab": {
          "base_uri": "https://localhost:8080/"
        }
      },
      "outputs": [
        {
          "output_type": "stream",
          "name": "stdout",
          "text": [
            "Selecting previously unselected package xvfb.\n",
            "(Reading database ... 155113 files and directories currently installed.)\n",
            "Preparing to unpack .../xvfb_2%3a1.19.6-1ubuntu4.10_amd64.deb ...\n",
            "Unpacking xvfb (2:1.19.6-1ubuntu4.10) ...\n",
            "Setting up xvfb (2:1.19.6-1ubuntu4.10) ...\n",
            "Processing triggers for man-db (2.8.3-2ubuntu0.1) ...\n",
            "Starting virtual X frame buffer: Xvfb.\n"
          ]
        }
      ],
      "source": [
        "import sys, os\n",
        "if 'google.colab' in sys.modules and not os.path.exists('.setup_complete'):\n",
        "    !wget -q https://raw.githubusercontent.com/yandexdataschool/Practical_RL/master/setup_colab.sh -O- | bash\n",
        "\n",
        "    !wget -q https://raw.githubusercontent.com/yandexdataschool/Practical_RL/coursera/grading.py -O ../grading.py\n",
        "    !wget -q https://raw.githubusercontent.com/yandexdataschool/Practical_RL/coursera/week4_approx/submit.py\n",
        "\n",
        "    !touch .setup_complete\n",
        "\n",
        "# This code creates a virtual display to draw game images on.\n",
        "# It will have no effect if your machine has a monitor.\n",
        "if type(os.environ.get(\"DISPLAY\")) is not str or len(os.environ.get(\"DISPLAY\")) == 0:\n",
        "    !bash ../xvfb start\n",
        "    os.environ['DISPLAY'] = ':1'"
      ]
    },
    {
      "cell_type": "code",
      "execution_count": 2,
      "metadata": {
        "id": "HkOddvAX-7cF"
      },
      "outputs": [],
      "source": [
        "import gym\n",
        "import numpy as np\n",
        "import pandas as pd\n",
        "import matplotlib.pyplot as plt\n",
        "%matplotlib inline"
      ]
    },
    {
      "cell_type": "code",
      "execution_count": 3,
      "metadata": {
        "id": "JN60s7jL-7cG",
        "outputId": "42b6acd6-20ea-4426-f0bf-2670124c9bcd",
        "colab": {
          "base_uri": "https://localhost:8080/",
          "height": 269
        }
      },
      "outputs": [
        {
          "output_type": "display_data",
          "data": {
            "image/png": "[encoded data removed]",
            "text/plain": [
              "<Figure size 432x288 with 1 Axes>"
            ]
          },
          "metadata": {
            "needs_background": "light"
          }
        }
      ],
      "source": [
        "env = gym.make(\"CartPole-v0\").env\n",
        "env.reset()\n",
        "n_actions = env.action_space.n\n",
        "state_dim = env.observation_space.shape\n",
        "\n",
        "plt.imshow(env.render(\"rgb_array\"))\n",
        "env.close()"
      ]
    },
    {
      "cell_type": "markdown",
      "metadata": {
        "id": "36RPcPCv-7cH"
      },
      "source": [
        "# Approximate Q-learning: building the network\n",
        "\n",
        "To train a neural network policy one must have a neural network policy. Let's build it.\n",
        "\n",
        "\n",
        "Since we're working with a pre-extracted features (cart positions, angles and velocities), we don't need a complicated network yet. In fact, let's build something like this for starters:\n",
        "\n",
        "![img](https://raw.githubusercontent.com/yandexdataschool/Practical_RL/master/yet_another_week/_resource/qlearning_scheme.png)\n",
        "\n",
        "For your first run, please only use linear layers (`nn.Linear`) and activations. Stuff like batch normalization or dropout may ruin everything if used haphazardly. \n",
        "\n",
        "Also please avoid using nonlinearities like sigmoid & tanh: since agent's observations are not normalized, sigmoids might be saturated at initialization. Instead, use non-saturating nonlinearities like ReLU.\n",
        "\n",
        "Ideally you should start small with maybe 1-2 hidden layers with < 200 neurons and then increase network size if agent doesn't beat the target score."
      ]
    },
    {
      "cell_type": "code",
      "execution_count": 4,
      "metadata": {
        "id": "3LW828zY-7cI"
      },
      "outputs": [],
      "source": [
        "import torch\n",
        "import torch.nn as nn\n",
        "import torch.nn.functional as F"
      ]
    },
    {
      "cell_type": "code",
      "execution_count": 27,
      "metadata": {
        "id": "KLEC9K_R-7cI"
      },
      "outputs": [],
      "source": [
        "network = nn.Sequential()\n",
        "\n",
        "network.add_module('layer1', nn.Linear(4,64))\n",
        "\n",
        "network.add_module(\"body\",nn.Sequential(\n",
        "    nn.Linear(64,128),\n",
        "    nn.Linear(128,32)\n",
        "))\n",
        "network.add_module('output', nn.Sequential( \n",
        "    nn.ReLU(),\n",
        "    nn.Linear(32,2)\n",
        "))\n",
        "\n",
        "# hint: use state_dim[0] as input size"
      ]
    },
    {
      "cell_type": "code",
      "execution_count": 30,
      "metadata": {
        "id": "8HuSUd5W-7cJ"
      },
      "outputs": [],
      "source": [
        "import random\n",
        "def get_action(state, epsilon=0):\n",
        "    \"\"\"\n",
        "    sample actions with epsilon-greedy policy\n",
        "    recap: with p = epsilon pick random action, else pick action with highest Q(s,a)\n",
        "    \"\"\"\n",
        "    state = torch.tensor(state[None], dtype=torch.float32)\n",
        "    q_values = network(state).detach().numpy()\n",
        "    action = -1\n",
        "    if random.random() <= epsilon:\n",
        "        action = random.randint(0,1)\n",
        "    else:\n",
        "        action = np.argmax(q_values)\n",
        "\n",
        "    return int( action )"
      ]
    },
    {
      "cell_type": "code",
      "execution_count": 31,
      "metadata": {
        "id": "wiNYRhNl-7cK",
        "outputId": "74801afd-5717-44d0-8877-562b185c5923",
        "colab": {
          "base_uri": "https://localhost:8080/"
        }
      },
      "outputs": [
        {
          "output_type": "stream",
          "name": "stdout",
          "text": [
            "e=0.0 tests passed\n",
            "e=0.1 tests passed\n",
            "e=0.5 tests passed\n",
            "e=1.0 tests passed\n"
          ]
        }
      ],
      "source": [
        "s = env.reset()\n",
        "assert tuple(network(torch.tensor([s]*3, dtype=torch.float32)).size()) == (\n",
        "    3, n_actions), \"please make sure your model maps state s -> [Q(s,a0), ..., Q(s, a_last)]\"\n",
        "assert isinstance(list(network.modules(\n",
        "))[-1], nn.Linear), \"please make sure you predict q-values without nonlinearity (ignore if you know what you're doing)\"\n",
        "assert isinstance(get_action(\n",
        "    s), int), \"get_action(s) must return int, not %s. try int(action)\" % (type(get_action(s)))\n",
        "\n",
        "# test epsilon-greedy exploration\n",
        "for eps in [0., 0.1, 0.5, 1.0]:\n",
        "    state_frequencies = np.bincount(\n",
        "        [get_action(s, epsilon=eps) for i in range(10000)], minlength=n_actions)\n",
        "    best_action = state_frequencies.argmax()\n",
        "    assert abs(state_frequencies[best_action] -\n",
        "               10000 * (1 - eps + eps / n_actions)) < 200\n",
        "    for other_action in range(n_actions):\n",
        "        if other_action != best_action:\n",
        "            assert abs(state_frequencies[other_action] -\n",
        "                       10000 * (eps / n_actions)) < 200\n",
        "    print('e=%.1f tests passed' % eps)"
      ]
    },
    {
      "cell_type": "markdown",
      "metadata": {
        "id": "TdBDQnts-7cL"
      },
      "source": [
        "### Q-learning via gradient descent\n",
        "\n",
        "We shall now train our agent's Q-function by minimizing the TD loss:\n",
        "$$ L = { 1 \\over N} \\sum_i (Q_{\\theta}(s,a) - [r(s,a) + \\gamma \\cdot max_{a'} Q_{-}(s', a')]) ^2 $$\n",
        "\n",
        "\n",
        "Where\n",
        "* $s, a, r, s'$ are current state, action, reward and next state respectively\n",
        "* $\\gamma$ is a discount factor defined two cells above.\n",
        "\n",
        "The tricky part is with  $Q_{-}(s',a')$. From an engineering standpoint, it's the same as $Q_{\\theta}$ - the output of your neural network policy. However, when doing gradient descent, __we won't propagate gradients through it__ to make training more stable (see lectures).\n",
        "\n",
        "To do so, we shall use `x.detach()` function which basically says \"consider this thing constant when doingbackprop\"."
      ]
    },
    {
      "cell_type": "code",
      "source": [
        "a = network(torch.tensor([s]*3, dtype=torch.float32))\n",
        "# print(a)\n",
        "torch.max(a,1).values * 2"
      ],
      "metadata": {
        "id": "sRpig2nGJPa0",
        "outputId": "8ed94f20-fefd-44f5-e0fb-ac5710168998",
        "colab": {
          "base_uri": "https://localhost:8080/"
        }
      },
      "execution_count": 46,
      "outputs": [
        {
          "output_type": "execute_result",
          "data": {
            "text/plain": [
              "tensor([0.2698, 0.2698, 0.2698], grad_fn=<MulBackward0>)"
            ]
          },
          "metadata": {},
          "execution_count": 46
        }
      ]
    },
    {
      "cell_type": "code",
      "execution_count": 53,
      "metadata": {
        "id": "voS5J5dp-7cM"
      },
      "outputs": [],
      "source": [
        "def compute_td_loss(states, actions, rewards, next_states, is_done, gamma=0.99, check_shapes=False):\n",
        "    \"\"\" Compute td loss using torch operations only. Use the formula above. \"\"\"\n",
        "    states = torch.tensor(\n",
        "        states, dtype=torch.float32)    # shape: [batch_size, state_size]\n",
        "    actions = torch.tensor(actions, dtype=torch.long)    # shape: [batch_size]\n",
        "    rewards = torch.tensor(rewards, dtype=torch.float32)  # shape: [batch_size]\n",
        "    # shape: [batch_size, state_size]\n",
        "    next_states = torch.tensor(next_states, dtype=torch.float32)\n",
        "    is_done = torch.tensor(is_done, dtype=torch.uint8)  # shape: [batch_size]\n",
        "\n",
        "    # get q-values for all actions in current states\n",
        "    predicted_qvalues = network(states)\n",
        "\n",
        "    # select q-values for chosen actions\n",
        "    predicted_qvalues_for_actions = predicted_qvalues[\n",
        "      range(states.shape[0]), actions\n",
        "    ]\n",
        "\n",
        "    # compute q-values for all actions in next states\n",
        "    predicted_next_qvalues = network(next_states)\n",
        "\n",
        "    # compute V*(next_states) using predicted next q-values\n",
        "    next_state_values = torch.max(predicted_next_qvalues,1).values\n",
        "    assert next_state_values.dtype == torch.float32\n",
        "\n",
        "    # print('predicted_qvalues=',predicted_qvalues,\"\\n predicted_next_qvalues=\",predicted_next_qvalues,\"\\nnext_state_values=\",next_state_values,\"\\nactions=\",actions)\n",
        "    # compute \"target q-values\" for loss - it's what's inside square parentheses in the above formula.\n",
        "    target_qvalues_for_actions = rewards + gamma *  next_state_values\n",
        "\n",
        "    # at the last state we shall use simplified formula: Q(s,a) = r(s,a) since s' doesn't exist\n",
        "    target_qvalues_for_actions = torch.where(\n",
        "        is_done, rewards, target_qvalues_for_actions)\n",
        "\n",
        "    # mean squared error loss to minimize\n",
        "    loss = torch.mean((predicted_qvalues_for_actions -\n",
        "                       target_qvalues_for_actions.detach()) ** 2)\n",
        "\n",
        "    if check_shapes:\n",
        "        assert predicted_next_qvalues.data.dim(\n",
        "        ) == 2, \"make sure you predicted q-values for all actions in next state\"\n",
        "        assert next_state_values.data.dim(\n",
        "        ) == 1, \"make sure you computed V(s') as maximum over just the actions axis and not all axes\"\n",
        "        assert target_qvalues_for_actions.data.dim(\n",
        "        ) == 1, \"there's something wrong with target q-values, they must be a vector\"\n",
        "\n",
        "    return loss"
      ]
    },
    {
      "cell_type": "code",
      "execution_count": 54,
      "metadata": {
        "id": "v1CMeUJL-7cN",
        "outputId": "5bf54299-1a67-4526-d8bf-bec4cc25aefd",
        "colab": {
          "base_uri": "https://localhost:8080/"
        }
      },
      "outputs": [
        {
          "output_type": "stream",
          "name": "stderr",
          "text": [
            "/usr/local/lib/python3.7/dist-packages/ipykernel_launcher.py:32: UserWarning: where received a uint8 condition tensor. This behavior is deprecated and will be removed in a future version of PyTorch. Use a boolean condition instead. (Triggered internally at  ../aten/src/ATen/native/TensorCompare.cpp:328.)\n"
          ]
        }
      ],
      "source": [
        "# sanity checks\n",
        "s = env.reset()\n",
        "a = env.action_space.sample()\n",
        "next_s, r, done, _ = env.step(a)\n",
        "loss = compute_td_loss([s], [a], [r], [next_s], [done], check_shapes=True)\n",
        "loss.backward()\n",
        "\n",
        "assert len(loss.size()) == 0, \"you must return scalar loss - mean over batch\"\n",
        "assert np.any(next(network.parameters()).grad.detach().numpy() !=\n",
        "              0), \"loss must be differentiable w.r.t. network weights\""
      ]
    },
    {
      "cell_type": "markdown",
      "metadata": {
        "id": "3vAE2vzb-7cN"
      },
      "source": [
        "### Playing the game"
      ]
    },
    {
      "cell_type": "code",
      "execution_count": 55,
      "metadata": {
        "id": "Nab2SkpK-7cO"
      },
      "outputs": [],
      "source": [
        "opt = torch.optim.Adam(network.parameters(), lr=1e-4)"
      ]
    },
    {
      "cell_type": "code",
      "execution_count": 56,
      "metadata": {
        "id": "yBUz7t63-7cO"
      },
      "outputs": [],
      "source": [
        "def generate_session(env, t_max=1000, epsilon=0, train=False):\n",
        "    \"\"\"play env with approximate q-learning agent and train it at the same time\"\"\"\n",
        "    total_reward = 0\n",
        "    s = env.reset()\n",
        "\n",
        "    for t in range(t_max):\n",
        "        a = get_action(s, epsilon=epsilon)\n",
        "        next_s, r, done, _ = env.step(a)\n",
        "\n",
        "        if train:\n",
        "            opt.zero_grad()\n",
        "            compute_td_loss([s], [a], [r], [next_s], [done]).backward()\n",
        "            opt.step()\n",
        "\n",
        "        total_reward += r\n",
        "        s = next_s\n",
        "        if done:\n",
        "            break\n",
        "\n",
        "    return total_reward"
      ]
    },
    {
      "cell_type": "code",
      "execution_count": 57,
      "metadata": {
        "id": "FbAZMRRU-7cO"
      },
      "outputs": [],
      "source": [
        "epsilon = 0.5"
      ]
    },
    {
      "cell_type": "code",
      "execution_count": 58,
      "metadata": {
        "id": "sBNPwVuY-7cP",
        "outputId": "0a02d280-ab51-4b18-ec65-73ad961743f5",
        "colab": {
          "base_uri": "https://localhost:8080/"
        }
      },
      "outputs": [
        {
          "output_type": "stream",
          "name": "stdout",
          "text": [
            "epoch #0\tmean reward = 14.110\tepsilon = 0.500\n",
            "epoch #1\tmean reward = 19.790\tepsilon = 0.495\n",
            "epoch #2\tmean reward = 16.980\tepsilon = 0.490\n",
            "epoch #3\tmean reward = 15.990\tepsilon = 0.485\n",
            "epoch #4\tmean reward = 17.020\tepsilon = 0.480\n",
            "epoch #5\tmean reward = 16.150\tepsilon = 0.475\n",
            "epoch #6\tmean reward = 14.850\tepsilon = 0.471\n",
            "epoch #7\tmean reward = 15.410\tepsilon = 0.466\n",
            "epoch #8\tmean reward = 18.430\tepsilon = 0.461\n",
            "epoch #9\tmean reward = 15.930\tepsilon = 0.457\n",
            "epoch #10\tmean reward = 22.720\tepsilon = 0.452\n",
            "epoch #11\tmean reward = 23.450\tepsilon = 0.448\n",
            "epoch #12\tmean reward = 36.350\tepsilon = 0.443\n",
            "epoch #13\tmean reward = 33.410\tepsilon = 0.439\n",
            "epoch #14\tmean reward = 41.270\tepsilon = 0.434\n",
            "epoch #15\tmean reward = 43.710\tepsilon = 0.430\n",
            "epoch #16\tmean reward = 54.960\tepsilon = 0.426\n",
            "epoch #17\tmean reward = 52.690\tepsilon = 0.421\n",
            "epoch #18\tmean reward = 69.260\tepsilon = 0.417\n",
            "epoch #19\tmean reward = 69.350\tepsilon = 0.413\n",
            "epoch #20\tmean reward = 88.360\tepsilon = 0.409\n",
            "epoch #21\tmean reward = 100.730\tepsilon = 0.405\n",
            "epoch #22\tmean reward = 98.380\tepsilon = 0.401\n",
            "epoch #23\tmean reward = 121.600\tepsilon = 0.397\n",
            "epoch #24\tmean reward = 119.660\tepsilon = 0.393\n",
            "epoch #25\tmean reward = 133.790\tepsilon = 0.389\n",
            "epoch #26\tmean reward = 120.170\tepsilon = 0.385\n",
            "epoch #27\tmean reward = 128.140\tepsilon = 0.381\n",
            "epoch #28\tmean reward = 125.650\tepsilon = 0.377\n",
            "epoch #29\tmean reward = 153.100\tepsilon = 0.374\n",
            "epoch #30\tmean reward = 137.520\tepsilon = 0.370\n",
            "epoch #31\tmean reward = 119.520\tepsilon = 0.366\n",
            "epoch #32\tmean reward = 138.180\tepsilon = 0.362\n",
            "epoch #33\tmean reward = 118.080\tepsilon = 0.359\n",
            "epoch #34\tmean reward = 131.060\tepsilon = 0.355\n",
            "epoch #35\tmean reward = 115.780\tepsilon = 0.352\n",
            "epoch #36\tmean reward = 117.810\tepsilon = 0.348\n",
            "epoch #37\tmean reward = 127.210\tepsilon = 0.345\n",
            "epoch #38\tmean reward = 127.020\tepsilon = 0.341\n",
            "epoch #39\tmean reward = 136.920\tepsilon = 0.338\n",
            "epoch #40\tmean reward = 133.230\tepsilon = 0.334\n",
            "epoch #41\tmean reward = 126.230\tepsilon = 0.331\n",
            "epoch #42\tmean reward = 140.970\tepsilon = 0.328\n",
            "epoch #43\tmean reward = 124.680\tepsilon = 0.325\n",
            "epoch #44\tmean reward = 131.410\tepsilon = 0.321\n",
            "epoch #45\tmean reward = 116.750\tepsilon = 0.318\n",
            "epoch #46\tmean reward = 123.000\tepsilon = 0.315\n",
            "epoch #47\tmean reward = 119.050\tepsilon = 0.312\n",
            "epoch #48\tmean reward = 117.240\tepsilon = 0.309\n",
            "epoch #49\tmean reward = 124.570\tepsilon = 0.306\n",
            "epoch #50\tmean reward = 126.000\tepsilon = 0.303\n",
            "epoch #51\tmean reward = 101.020\tepsilon = 0.299\n",
            "epoch #52\tmean reward = 156.340\tepsilon = 0.296\n",
            "epoch #53\tmean reward = 161.160\tepsilon = 0.294\n",
            "epoch #54\tmean reward = 236.790\tepsilon = 0.291\n",
            "epoch #55\tmean reward = 343.450\tepsilon = 0.288\n",
            "You Win!\n"
          ]
        }
      ],
      "source": [
        "for i in range(1000):\n",
        "    session_rewards = [generate_session(env, epsilon=epsilon, train=True) for _ in range(100)]\n",
        "    print(\"epoch #{}\\tmean reward = {:.3f}\\tepsilon = {:.3f}\".format(i, np.mean(session_rewards), epsilon))\n",
        "\n",
        "    epsilon *= 0.99\n",
        "    assert epsilon >= 1e-4, \"Make sure epsilon is always nonzero during training\"\n",
        "\n",
        "    if np.mean(session_rewards) > 300:\n",
        "        print(\"You Win!\")\n",
        "        break"
      ]
    },
    {
      "cell_type": "markdown",
      "metadata": {
        "id": "G_PSP1rE-7cP"
      },
      "source": [
        "### How to interpret results\n",
        "\n",
        "\n",
        "Welcome to the f.. world of deep f...n reinforcement learning. Don't expect agent's reward to smoothly go up. Hope for it to go increase eventually. If it deems you worthy.\n",
        "\n",
        "Seriously though,\n",
        "* __ mean reward__ is the average reward per game. For a correct implementation it may stay low for some 10 epochs, then start growing while oscilating insanely and converges by ~50-100 steps depending on the network architecture. \n",
        "* If it never reaches target score by the end of for loop, try increasing the number of hidden neurons or look at the epsilon.\n",
        "* __ epsilon__ - agent's willingness to explore. If you see that agent's already at < 0.01 epsilon before it's is at least 200, just reset it back to 0.1 - 0.5."
      ]
    },
    {
      "cell_type": "markdown",
      "metadata": {
        "id": "7vp4prkr-7cP"
      },
      "source": [
        "### Record videos\n",
        "\n",
        "As usual, we now use `gym.wrappers.Monitor` to record a video of our agent playing the game. Unlike our previous attempts with state binarization, this time we expect our agent to act ~~(or fail)~~ more smoothly since there's no more binarization error at play.\n",
        "\n",
        "As you already did with tabular q-learning, we set epsilon=0 for final evaluation to prevent agent from exploring himself to death."
      ]
    },
    {
      "cell_type": "code",
      "execution_count": 59,
      "metadata": {
        "id": "m7_s9mOR-7cQ"
      },
      "outputs": [],
      "source": [
        "# Record sessions\n",
        "\n",
        "import gym.wrappers\n",
        "\n",
        "with gym.wrappers.Monitor(gym.make(\"CartPole-v0\"), directory=\"videos\", force=True) as env_monitor:\n",
        "    sessions = [generate_session(env_monitor, epsilon=0, train=False) for _ in range(100)]"
      ]
    },
    {
      "cell_type": "code",
      "execution_count": 61,
      "metadata": {
        "id": "kgmmLGS4-7cQ",
        "outputId": "60449010-8e59-41bd-9afb-0885f550ff9e",
        "colab": {
          "resources": {
            "http://localhost:8080/videos/openaigym.video.0.71.video000064.mp4": {
              "data": "CjwhRE9DVFlQRSBodG1sPgo8aHRtbCBsYW5nPWVuPgogIDxtZXRhIGNoYXJzZXQ9dXRmLTg+CiAgPG1ldGEgbmFtZT12aWV3cG9ydCBjb250ZW50PSJpbml0aWFsLXNjYWxlPTEsIG1pbmltdW0tc2NhbGU9MSwgd2lkdGg9ZGV2aWNlLXdpZHRoIj4KICA8dGl0bGU+RXJyb3IgNDA0IChOb3QgRm91bmQpISExPC90aXRsZT4KICA8c3R5bGU+CiAgICAqe21hcmdpbjowO3BhZGRpbmc6MH1odG1sLGNvZGV7Zm9udDoxNXB4LzIycHggYXJpYWwsc2Fucy1zZXJpZn1odG1se2JhY2tncm91bmQ6I2ZmZjtjb2xvcjojMjIyO3BhZGRpbmc6MTVweH1ib2R5e21hcmdpbjo3JSBhdXRvIDA7bWF4LXdpZHRoOjM5MHB4O21pbi1oZWlnaHQ6MTgwcHg7cGFkZGluZzozMHB4IDAgMTVweH0qID4gYm9keXtiYWNrZ3JvdW5kOnVybCgvL3d3dy5nb29nbGUuY29tL2ltYWdlcy9lcnJvcnMvcm9ib3QucG5nKSAxMDAlIDVweCBuby1yZXBlYXQ7cGFkZGluZy1yaWdodDoyMDVweH1we21hcmdpbjoxMXB4IDAgMjJweDtvdmVyZmxvdzpoaWRkZW59aW5ze2NvbG9yOiM3Nzc7dGV4dC1kZWNvcmF0aW9uOm5vbmV9YSBpbWd7Ym9yZGVyOjB9QG1lZGlhIHNjcmVlbiBhbmQgKG1heC13aWR0aDo3NzJweCl7Ym9keXtiYWNrZ3JvdW5kOm5vbmU7bWFyZ2luLXRvcDowO21heC13aWR0aDpub25lO3BhZGRpbmctcmlnaHQ6MH19I2xvZ297YmFja2dyb3VuZDp1cmwoLy93d3cuZ29vZ2xlLmNvbS9pbWFnZXMvbG9nb3MvZXJyb3JwYWdlL2Vycm9yX2xvZ28tMTUweDU0LnBuZykgbm8tcmVwZWF0O21hcmdpbi1sZWZ0Oi01cHh9QG1lZGlhIG9ubHkgc2NyZWVuIGFuZCAobWluLXJlc29sdXRpb246MTkyZHBpKXsjbG9nb3tiYWNrZ3JvdW5kOnVybCgvL3d3dy5nb29nbGUuY29tL2ltYWdlcy9sb2dvcy9lcnJvcnBhZ2UvZXJyb3JfbG9nby0xNTB4NTQtMngucG5nKSBuby1yZXBlYXQgMCUgMCUvMTAwJSAxMDAlOy1tb3otYm9yZGVyLWltYWdlOnVybCgvL3d3dy5nb29nbGUuY29tL2ltYWdlcy9sb2dvcy9lcnJvcnBhZ2UvZXJyb3JfbG9nby0xNTB4NTQtMngucG5nKSAwfX1AbWVkaWEgb25seSBzY3JlZW4gYW5kICgtd2Via2l0LW1pbi1kZXZpY2UtcGl4ZWwtcmF0aW86Mil7I2xvZ297YmFja2dyb3VuZDp1cmwoLy93d3cuZ29vZ2xlLmNvbS9pbWFnZXMvbG9nb3MvZXJyb3JwYWdlL2Vycm9yX2xvZ28tMTUweDU0LTJ4LnBuZykgbm8tcmVwZWF0Oy13ZWJraXQtYmFja2dyb3VuZC1zaXplOjEwMCUgMTAwJX19I2xvZ297ZGlzcGxheTppbmxpbmUtYmxvY2s7aGVpZ2h0OjU0cHg7d2lkdGg6MTUwcHh9CiAgPC9zdHlsZT4KICA8YSBocmVmPS8vd3d3Lmdvb2dsZS5jb20vPjxzcGFuIGlkPWxvZ28gYXJpYS1sYWJlbD1Hb29nbGU+PC9zcGFuPjwvYT4KICA8cD48Yj40MDQuPC9iPiA8aW5zPlRoYXTigJlzIGFuIGVycm9yLjwvaW5zPgogIDxwPiAgPGlucz5UaGF04oCZcyBhbGwgd2Uga25vdy48L2lucz4K",
              "ok": false,
              "headers": [
                [
                  "content-length",
                  "1449"
                ],
                [
                  "content-type",
                  "text/html; charset=utf-8"
                ]
              ],
              "status": 404,
              "status_text": ""
            }
          },
          "base_uri": "https://localhost:8080/",
          "height": 501
        }
      },
      "outputs": [
        {
          "output_type": "execute_result",
          "data": {
            "text/html": [
              "\n",
              "<video width=\"640\" height=\"480\" controls>\n",
              "  <source src=\"videos/openaigym.video.0.71.video000064.mp4\" type=\"video/mp4\">\n",
              "</video>\n"
            ],
            "text/plain": [
              "<IPython.core.display.HTML object>"
            ]
          },
          "metadata": {},
          "execution_count": 61
        }
      ],
      "source": [
        "# Show video. This may not work in some setups. If it doesn't\n",
        "# work for you, you can download the videos and view them locally.\n",
        "\n",
        "from pathlib import Path\n",
        "from IPython.display import HTML\n",
        "\n",
        "video_names = sorted([s for s in Path('videos').iterdir() if s.suffix == '.mp4'])\n",
        "\n",
        "HTML(\"\"\"\n",
        "<video width=\"640\" height=\"480\" controls>\n",
        "  <source src=\"{}\" type=\"video/mp4\">\n",
        "</video>\n",
        "\"\"\".format(video_names[-1]))  # You can also try other indices"
      ]
    },
    {
      "cell_type": "code",
      "source": [
        "video_names[0]"
      ],
      "metadata": {
        "id": "gO9RF9y2Q0G6",
        "outputId": "d18522b1-909f-433d-a397-53d0af9e4c71",
        "colab": {
          "base_uri": "https://localhost:8080/"
        }
      },
      "execution_count": 63,
      "outputs": [
        {
          "output_type": "execute_result",
          "data": {
            "text/plain": [
              "PosixPath('videos/openaigym.video.0.71.video000000.mp4')"
            ]
          },
          "metadata": {},
          "execution_count": 63
        }
      ]
    },
    {
      "cell_type": "markdown",
      "metadata": {
        "id": "592TIiwT-7cR"
      },
      "source": [
        "## Submit to Coursera"
      ]
    },
    {
      "cell_type": "code",
      "execution_count": 64,
      "metadata": {
        "id": "H4YMFQna-7cR",
        "outputId": "46bae9b9-2809-4d21-91c3-8283634da027",
        "colab": {
          "base_uri": "https://localhost:8080/"
        }
      },
      "outputs": [
        {
          "output_type": "stream",
          "name": "stdout",
          "text": [
            "Your average reward is 1000.0 over 100 episodes\n",
            "Submitted to Coursera platform. See results on assignment page!\n"
          ]
        }
      ],
      "source": [
        "from submit import submit_cartpole\n",
        "submit_cartpole(generate_session, 'tianyao@buaa.edu.cn', '66xqbMLnEKqwZmds')"
      ]
    }
  ],
  "metadata": {
    "language_info": {
      "name": "python"
    },
    "colab": {
      "name": "practice_approx_qlearning_pytorch.ipynb",
      "provenance": [],
      "include_colab_link": true
    },
    "kernelspec": {
      "name": "python3",
      "display_name": "Python 3"
    }
  },
  "nbformat": 4,
  "nbformat_minor": 0
}